{
 "cells": [
  {
   "cell_type": "code",
   "execution_count": null,
   "id": "391717e6-4608-44ed-b899-7393d4c944c7",
   "metadata": {},
   "outputs": [],
   "source": [
    "%run Sensor_B_Data_Send.ipynb\n",
    "\n",
    "print(timestamp)\n",
    "print(post_code)\n",
    "print(river_code)\n",
    "print(temperature)\n",
    "print(humidity)\n",
    "print(distance)\n",
    "print(rain_value)\n",
    "print(point_b_status)\n",
    "print(sensor_b_scan_water_height)"
   ]
  },
  {
   "cell_type": "code",
   "execution_count": null,
   "id": "95aa9cf8-f11a-4373-ab0e-c2dd030d881b",
   "metadata": {},
   "outputs": [],
   "source": [
    "import pandas as pd\n",
    "import numpy as np\n",
    "import matplotlib.pyplot as plt\n",
    "from numpy import array\n",
    "from numpy import hstack\n",
    "from sklearn.preprocessing import MinMaxScaler\n",
    "from tensorflow.keras.models import Sequential\n",
    "from tensorflow.keras.layers import LSTM, Dense\n",
    "import pymysql\n",
    "from datetime import datetime, timedelta\n",
    "from sklearn.preprocessing import MinMaxScaler\n",
    "from tensorflow.keras.preprocessing.sequence import TimeseriesGenerator\n",
    "import seaborn as sns\n",
    "from statsmodels.tsa.seasonal import seasonal_decompose\n",
    "from sklearn.metrics import mean_squared_error\n",
    "from math import sqrt\n",
    "from typing import List\n",
    "from typing import Optional\n",
    "from sqlalchemy import ForeignKey\n",
    "from sqlalchemy import String\n",
    "from sqlalchemy.orm import DeclarativeBase\n",
    "from sqlalchemy.orm import Mapped\n",
    "from sqlalchemy.orm import mapped_column\n",
    "from sqlalchemy.orm import relationship\n",
    "import random, sqlite3"
   ]
  },
  {
   "cell_type": "code",
   "execution_count": null,
   "id": "98470d73-a501-4ec4-81e9-e6f99f878e49",
   "metadata": {},
   "outputs": [],
   "source": [
    "# Database connection\n",
    "db_name = \"floodeck_alpha\"\n",
    "db_host = \"localhost\"\n",
    "db_username = \"root\"\n",
    "db_password = \"\"\n",
    "\n",
    "try:\n",
    "    conn = pymysql.connect(host=db_host,\n",
    "                           port=int(3306),\n",
    "                           user=db_username,\n",
    "                           password=db_password,\n",
    "                           db=db_name)\n",
    "    print(\"Connection successful\")\n",
    "except Exception as e:\n",
    "    print(e)"
   ]
  },
  {
   "cell_type": "code",
   "execution_count": null,
   "id": "f971a287-8336-40f1-8ada-0522460c1655",
   "metadata": {},
   "outputs": [],
   "source": [
    "water_post_code_b = str(post_code)\n",
    "water_post_code_b"
   ]
  },
  {
   "cell_type": "code",
   "execution_count": null,
   "id": "f80e5aaa-acdd-4a47-a72c-591923950fc9",
   "metadata": {},
   "outputs": [],
   "source": [
    "water_height_b_query = \"SELECT sensor_b_scan_water_height, created_at FROM sensor_b WHERE water_post_code = %s;\"\n",
    "water_height_b = pd.read_sql_query(water_height_b_query, conn, params=[water_post_code_b])\n",
    "df = water_height_b"
   ]
  },
  {
   "cell_type": "code",
   "execution_count": null,
   "id": "d279010c-c82d-477f-a087-34ae917ba303",
   "metadata": {
    "scrolled": true
   },
   "outputs": [],
   "source": [
    "# # Load data\n",
    "# df = pd.read_sql_query(\"SELECT level_muka_air_dhompo, tanggal FROM awlr_arr_per_jam\", conn)\n",
    "\n",
    "# df"
   ]
  },
  {
   "cell_type": "code",
   "execution_count": null,
   "id": "69223e2d-65b1-43d2-9ecd-d51890db1890",
   "metadata": {},
   "outputs": [],
   "source": [
    "df.dropna(inplace=True)\n",
    "\n",
    "df"
   ]
  },
  {
   "cell_type": "code",
   "execution_count": null,
   "id": "b275ae86-8194-4f89-b65e-c0c9e01d88f9",
   "metadata": {},
   "outputs": [],
   "source": [
    "df['created_at'] = pd.to_datetime(df['created_at'], format='%Y-%m-%d %H:%M:%S')\n",
    "\n",
    "df"
   ]
  },
  {
   "cell_type": "code",
   "execution_count": null,
   "id": "06c35cf3-ca3d-4a61-bd63-74aa1596e0ae",
   "metadata": {},
   "outputs": [],
   "source": [
    "df.set_index('created_at', inplace=True)\n",
    "\n",
    "df"
   ]
  },
  {
   "cell_type": "code",
   "execution_count": null,
   "id": "5a033497-e3c8-41fa-8bc3-86520f05c708",
   "metadata": {},
   "outputs": [],
   "source": [
    "def convert_to_float(column):\n",
    "    if column.dtype == 'object':\n",
    "        column = column.astype(str)\n",
    "        column = column.str.replace(',', '.')\n",
    "        return pd.to_numeric(column, errors='coerce')\n",
    "    return column"
   ]
  },
  {
   "cell_type": "code",
   "execution_count": null,
   "id": "0445cf9a-a480-411c-a81e-79ad4196e258",
   "metadata": {},
   "outputs": [],
   "source": [
    "def convert_to_float(column):\n",
    "    if column.dtype == 'object':\n",
    "        column = column.astype(str)\n",
    "        column = column.str.replace('x', '0.00')\n",
    "        return pd.to_numeric(column, errors='coerce')\n",
    "    return column"
   ]
  },
  {
   "cell_type": "code",
   "execution_count": null,
   "id": "5b4e11a9-c12e-4cc0-909d-0b4d49aaa845",
   "metadata": {},
   "outputs": [],
   "source": [
    "def convert_to_float(column):\n",
    "    if column.dtype == 'object':\n",
    "        column = column.astype(str)\n",
    "        column = column.str.replace('', '0.00')\n",
    "        return pd.to_numeric(column, errors='coerce')\n",
    "    return column"
   ]
  },
  {
   "cell_type": "code",
   "execution_count": null,
   "id": "18dce585-31df-4481-925d-b8ba228b9caf",
   "metadata": {},
   "outputs": [],
   "source": [
    "def convert_to_float(column):\n",
    "    if column.dtype == 'object':\n",
    "        column = column.astype(str)\n",
    "        column = column.str.replace('0', '0.00')\n",
    "        return pd.to_numeric(column, errors='coerce')\n",
    "    return column"
   ]
  },
  {
   "cell_type": "code",
   "execution_count": null,
   "id": "6ba3a46a-92de-4eed-a5f2-00cff1f8b7cd",
   "metadata": {},
   "outputs": [],
   "source": [
    "df['sensor_b_scan_water_height'] = convert_to_float(df['sensor_b_scan_water_height'])\n",
    "\n",
    "df"
   ]
  },
  {
   "cell_type": "code",
   "execution_count": null,
   "id": "7ccae916-8bf8-46b4-8de5-c30f78da00f6",
   "metadata": {},
   "outputs": [],
   "source": [
    "# Scale data\n",
    "scaler = MinMaxScaler()\n",
    "df['sensor_b_scan_water_height'] = scaler.fit_transform(df['sensor_b_scan_water_height'].values.reshape(-1, 1))\n",
    "\n",
    "df"
   ]
  },
  {
   "cell_type": "code",
   "execution_count": null,
   "id": "22aece3b-78da-41b1-89be-502f44acb769",
   "metadata": {},
   "outputs": [],
   "source": [
    "# Prepare data for LSTM\n",
    "n_input = 3\n",
    "n_features = 1\n",
    "generator = TimeseriesGenerator(df['sensor_b_scan_water_height'], df['sensor_b_scan_water_height'], length=n_input, batch_size=3)"
   ]
  },
  {
   "cell_type": "code",
   "execution_count": null,
   "id": "d0373194-7968-4a47-b313-152227d43d84",
   "metadata": {},
   "outputs": [],
   "source": [
    "# Build LSTM model\n",
    "model = Sequential()\n",
    "model.add(LSTM(100, activation='relu', input_shape=(n_input, n_features)))\n",
    "model.add(Dense(1))\n",
    "model.compile(optimizer='adam', loss='mse')\n",
    "model.fit(generator, epochs=5)"
   ]
  },
  {
   "cell_type": "code",
   "execution_count": null,
   "id": "6cdbbe2d-0704-434b-bf00-fc31bfdd0a52",
   "metadata": {},
   "outputs": [],
   "source": [
    "# Predict the last sequence\n",
    "last_sequence = df['sensor_b_scan_water_height'][-n_input:].values.reshape((1, n_input, n_features))\n",
    "predicted_value_b = model.predict(last_sequence)[0][0]\n",
    "predicted_value_b = scaler.inverse_transform([[predicted_value_b]])[0][0]\n",
    "\n",
    "print(last_sequence)\n",
    "print(predicted_value_b)"
   ]
  },
  {
   "cell_type": "code",
   "execution_count": null,
   "id": "d834dc78-26d2-4f79-b6cc-d07075bafaa5",
   "metadata": {},
   "outputs": [],
   "source": [
    "if predicted_value_b < 0 :\n",
    "    predicted_value_b = 0"
   ]
  },
  {
   "cell_type": "code",
   "execution_count": null,
   "id": "7425de4c-706b-415b-b179-57295ee00dea",
   "metadata": {},
   "outputs": [],
   "source": [
    "# Get the latest timestamp and add 15 minutes\n",
    "latest_timestamp = df.index[-1]\n",
    "future_timestamp = latest_timestamp + timedelta(minutes=5)\n",
    "\n",
    "print(latest_timestamp)\n",
    "print(future_timestamp)"
   ]
  },
  {
   "cell_type": "code",
   "execution_count": null,
   "id": "0fd2e809-160f-498a-8d2f-5d65b6c06ebc",
   "metadata": {},
   "outputs": [],
   "source": [
    "# Create DataFrame for prediction\n",
    "pd.options.display.float_format = '{:.2f}'.format\n",
    "predicted_df = pd.DataFrame({'created_at': [future_timestamp], 'prediction_sensor_b_scan_water_height': [predicted_value_b]})\n",
    "print(predicted_df)"
   ]
  },
  {
   "cell_type": "code",
   "execution_count": null,
   "id": "8e58a84f-2dcc-4508-b826-53fd455fa79a",
   "metadata": {},
   "outputs": [],
   "source": [
    "%%capture\n",
    "\n",
    "predicted_value_b = predicted_df['prediction_sensor_b_scan_water_height']\n",
    "future_timestamp = predicted_df['created_at']"
   ]
  },
  {
   "cell_type": "code",
   "execution_count": null,
   "id": "b978a42f-e741-4794-b994-b090140d2774",
   "metadata": {},
   "outputs": [],
   "source": [
    "print(predicted_value_b)\n",
    "print(future_timestamp)"
   ]
  },
  {
   "cell_type": "code",
   "execution_count": null,
   "id": "d70618f1-8dfc-438c-bd82-e4762c3c9c82",
   "metadata": {},
   "outputs": [],
   "source": [
    "%%capture\n",
    "\n",
    "sql_query = \"\"\"\n",
    "    UPDATE forecasting \n",
    "    SET prediction_sensor_b_scan_water_height = %s, water_sensor_b_status = %s \n",
    "    WHERE created_at = (\n",
    "        SELECT MAX(created_at) \n",
    "        FROM forecasting \n",
    "        WHERE river_code = %s\n",
    "    ) AND river_code = %s\n",
    "\"\"\"\n",
    "\n",
    "print(sql_query)\n",
    "\n",
    "try:\n",
    "    with conn.cursor() as cursor:\n",
    "\n",
    "        # cursor.execute(sql_query, (predicted_value_b.iloc[0], point_b_status, future_timestamp.iloc[0].strftime('%Y-%m-%d %H:%M:%S'), river_code))\n",
    "        cursor.execute(sql_query, (predicted_value_b.iloc[0], point_b_status, river_code, river_code))\n",
    "        \n",
    "        # Commit changes to the database\n",
    "        conn.commit()\n",
    "        \n",
    "        print(\"Prediction saved to database\")\n",
    "except Exception as e:\n",
    "    print(\"Error:\", e)\n",
    "    # Rollback changes if an error occurs\n",
    "    conn.rollback()"
   ]
  },
  {
   "cell_type": "code",
   "execution_count": null,
   "id": "89637764-5a3b-40df-b0ca-2f49300c1af8",
   "metadata": {},
   "outputs": [],
   "source": [
    "try:\n",
    "    df_check = pd.read_sql_query(\"SELECT * FROM forecasting ORDER BY id DESC LIMIT 1\", conn)\n",
    "    print(\"Last inserted record:\", df_check)\n",
    "except Exception as e:\n",
    "    print(\"Error fetching last record:\", e)"
   ]
  },
  {
   "cell_type": "code",
   "execution_count": null,
   "id": "61647107-1d73-4613-bb1b-25a0aa9a99d8",
   "metadata": {},
   "outputs": [],
   "source": [
    "# Plot predictions\n",
    "df['sensor_b_scan_water_height'] = scaler.inverse_transform(df['sensor_b_scan_water_height'].values.reshape(-1, 1))\n",
    "\n",
    "df"
   ]
  },
  {
   "cell_type": "code",
   "execution_count": null,
   "id": "14c01579-e430-4e20-ad39-265dce06d737",
   "metadata": {},
   "outputs": [],
   "source": [
    "plt.figure()\n",
    "plt.plot(df.index, df['sensor_b_scan_water_height'], label='Actual Data')\n",
    "plt.scatter(predicted_df['created_at'], predicted_df['prediction_sensor_b_scan_water_height'], color='red', label='Predicted Data')\n",
    "plt.xlabel('Date')\n",
    "plt.ylabel('Level Muka Air')\n",
    "plt.legend()\n",
    "plt.show()"
   ]
  },
  {
   "cell_type": "code",
   "execution_count": null,
   "id": "2188614d-da4b-4165-a4eb-a3407c1cdc97",
   "metadata": {},
   "outputs": [],
   "source": [
    "# Close database connection\n",
    "# conn.close()"
   ]
  }
 ],
 "metadata": {
  "kernelspec": {
   "display_name": "Python 3 (ipykernel)",
   "language": "python",
   "name": "python3"
  },
  "language_info": {
   "codemirror_mode": {
    "name": "ipython",
    "version": 3
   },
   "file_extension": ".py",
   "mimetype": "text/x-python",
   "name": "python",
   "nbconvert_exporter": "python",
   "pygments_lexer": "ipython3",
   "version": "3.12.3"
  }
 },
 "nbformat": 4,
 "nbformat_minor": 5
}
