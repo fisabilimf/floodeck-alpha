{
 "cells": [
  {
   "cell_type": "code",
   "execution_count": null,
   "id": "df32750e-dd95-40d8-9068-b0a32713621e",
   "metadata": {},
   "outputs": [],
   "source": [
    "%run Sensor_A_Forecasting_alpha.ipynb\n",
    "\n",
    "print(sensor_a_scan_water_height)\n",
    "print(predicted_value_a)\n",
    "print(future_timestamp)"
   ]
  },
  {
   "cell_type": "code",
   "execution_count": null,
   "id": "489db202-e2db-44ab-8147-b249de1f62fe",
   "metadata": {},
   "outputs": [],
   "source": [
    "%run Sensor_B_Forecasting_alpha.ipynb\n",
    "\n",
    "print(sensor_b_scan_water_height)\n",
    "print(predicted_value_b)\n",
    "print(future_timestamp)"
   ]
  },
  {
   "cell_type": "code",
   "execution_count": null,
   "id": "02401c51-ec8e-4ec5-9351-0257681257dd",
   "metadata": {},
   "outputs": [],
   "source": [
    "print(river_code)"
   ]
  },
  {
   "cell_type": "code",
   "execution_count": null,
   "id": "b01767aa-eb67-4cec-8a4f-70519d18e75f",
   "metadata": {},
   "outputs": [],
   "source": [
    "import pandas as pd\n",
    "import numpy as np\n",
    "import math\n",
    "import matplotlib.pyplot as plt\n",
    "from numpy import array\n",
    "from numpy import hstack\n",
    "from sklearn.preprocessing import MinMaxScaler\n",
    "from tensorflow.keras.models import Sequential\n",
    "from tensorflow.keras.layers import LSTM, Dense\n",
    "import pymysql\n",
    "from datetime import datetime, timedelta\n",
    "from sklearn.preprocessing import MinMaxScaler\n",
    "from tensorflow.keras.preprocessing.sequence import TimeseriesGenerator\n",
    "import seaborn as sns\n",
    "from statsmodels.tsa.seasonal import seasonal_decompose\n",
    "from sklearn.metrics import mean_squared_error\n",
    "from math import sqrt\n",
    "from typing import List\n",
    "from typing import Optional\n",
    "from sqlalchemy import ForeignKey\n",
    "from sqlalchemy import String\n",
    "from sqlalchemy.orm import DeclarativeBase\n",
    "from sqlalchemy.orm import Mapped\n",
    "from sqlalchemy.orm import mapped_column\n",
    "from sqlalchemy.orm import relationship\n",
    "import random, sqlite3\n"
   ]
  },
  {
   "cell_type": "code",
   "execution_count": null,
   "id": "0e5b9dbf-b5e6-41c4-a95e-d2417dafb5a4",
   "metadata": {},
   "outputs": [],
   "source": [
    "# Database connection\n",
    "db_name = \"floodeck_alpha\"\n",
    "db_host = \"localhost\"\n",
    "db_username = \"root\"\n",
    "db_password = \"\"\n",
    "\n",
    "try:\n",
    "    conn = pymysql.connect(host=db_host,\n",
    "                           port=int(3306),\n",
    "                           user=db_username,\n",
    "                           password=db_password,\n",
    "                           db=db_name)\n",
    "    print(\"Connection successful\")\n",
    "except Exception as e:\n",
    "    print(e)"
   ]
  },
  {
   "cell_type": "code",
   "execution_count": null,
   "id": "42bbdbfb-34e8-4fc6-a787-a6c5c1aba10a",
   "metadata": {},
   "outputs": [],
   "source": [
    "H1 = sensor_a_scan_water_height\n",
    "\n",
    "print(H1)"
   ]
  },
  {
   "cell_type": "code",
   "execution_count": null,
   "id": "20e0f81e-d40d-4e9a-b98b-511d085eaf97",
   "metadata": {},
   "outputs": [],
   "source": [
    "H2 = sensor_b_scan_water_height\n",
    "\n",
    "print(H2)"
   ]
  },
  {
   "cell_type": "code",
   "execution_count": null,
   "id": "fa44ad8c-6a6a-4886-804b-9cc7ad3c0dc9",
   "metadata": {},
   "outputs": [],
   "source": [
    "river_data_query = \"SELECT * FROM river_data WHERE river_code = %s;\"\n",
    "river_data = pd.read_sql_query(river_data_query, conn, params=[river_code])\n",
    "df = river_data\n",
    "df"
   ]
  },
  {
   "cell_type": "code",
   "execution_count": null,
   "id": "303eaf4d-ffbd-45cd-a053-de7e03db6bac",
   "metadata": {},
   "outputs": [],
   "source": [
    "B = df['river_width'].iloc[0]\n",
    "D = df['river_depth'].iloc[0]\n",
    "Z = df['river_slope'].iloc[0]\n",
    "L = df['river_point_distance'].iloc[0]\n",
    "V = df['river_flow_velocity'].iloc[0]\n",
    "nr = df['river_roughness'].iloc[0]\n",
    "# river_danger_height = df['river_danger_height'].iloc[0] * river_depth\n",
    "# river_warning_height = df['river_warning_height'].iloc[0] * river_depth\n",
    "# river_safe_height = df['river_safe_height'].iloc[0] * river_depth\n",
    "\n",
    "print(B)\n",
    "print(D)\n",
    "print(Z)\n",
    "print(L)\n",
    "print(V)\n",
    "print(nr)"
   ]
  },
  {
   "cell_type": "code",
   "execution_count": null,
   "id": "45d70040-97a7-47d4-b5c4-2c38f348175d",
   "metadata": {},
   "outputs": [],
   "source": [
    "#Get middle length\n",
    "Lx = L/2\n",
    "print(Lx)"
   ]
  },
  {
   "cell_type": "code",
   "execution_count": null,
   "id": "cfcb5594-1c3f-4962-8017-94795b21742b",
   "metadata": {},
   "outputs": [],
   "source": [
    "#Get R Value\n",
    "R = ( ( B * D ) + ( Z * ( D * D ) ) ) / ( B + ( ( 2 * D ) * math.sqrt( 1 + ( Z * Z ) ) ) )\n",
    "print(R)"
   ]
  },
  {
   "cell_type": "code",
   "execution_count": null,
   "id": "ac5ef91d-ff20-41b5-b602-43dff3531b71",
   "metadata": {},
   "outputs": [],
   "source": [
    "#Get Hf Value\n",
    "Hf = ( ( nr * nr ) * L * ( V * V ) ) / ( R**(4/3) )\n",
    "\n",
    "print(Hf)"
   ]
  },
  {
   "cell_type": "code",
   "execution_count": null,
   "id": "4e646094-868d-4c9a-8eaf-9781264735c2",
   "metadata": {},
   "outputs": [],
   "source": [
    "#Get Ho Value\n",
    "\n",
    "# Ho = H2 - H1"
   ]
  },
  {
   "cell_type": "code",
   "execution_count": null,
   "id": "175140c8-0476-46e8-89af-58f1a6f1b2a7",
   "metadata": {},
   "outputs": [],
   "source": [
    "#Get Hx Value\n",
    "Hx = H1 - ( ( (Hf) / ( L ) ) * Lx )\n",
    "\n",
    "print(Hx)"
   ]
  },
  {
   "cell_type": "code",
   "execution_count": null,
   "id": "35a94fba-b8fe-4782-8514-ed5016b8427d",
   "metadata": {},
   "outputs": [],
   "source": [
    "post_code_a = sensor_a['Post Code'].iloc[0]\n",
    "post_code_b = sensor_b['Post Code'].iloc[0]\n",
    "\n",
    "print(post_code_a)\n",
    "print(post_code_b)"
   ]
  },
  {
   "cell_type": "code",
   "execution_count": null,
   "id": "45b69413-1e56-42bf-8ad6-4acc15da3218",
   "metadata": {},
   "outputs": [],
   "source": [
    "print(latest_timestamp)\n",
    "print(future_timestamp)"
   ]
  },
  {
   "cell_type": "code",
   "execution_count": null,
   "id": "dbe3c9c7-22e5-46ca-b9c1-4227f401fda6",
   "metadata": {},
   "outputs": [],
   "source": [
    "if Hx >= river_danger_height:\n",
    "    elevation_status = \"DANGER\"\n",
    "elif Hx >= river_warning_height:\n",
    "    elevation_status = \"WARNING\"\n",
    "elif Hx >= river_safe_height:\n",
    "    elevation_status = \"SAFE\"\n",
    "else:\n",
    "    elevation_status = \"SAFE\"\n"
   ]
  },
  {
   "cell_type": "code",
   "execution_count": null,
   "id": "4a1c0bd0-0ef7-4e61-a497-5215633487a7",
   "metadata": {},
   "outputs": [],
   "source": [
    "#Insert Hasil Penghitungan Elevasi Data\n",
    "sql_query = \"INSERT INTO water_data (sensor_a_code, sensor_b_code, water_elevation, water_status, created_at) VALUES (%s, %s, %s, %s, %s)\"\n",
    "\n",
    "# print(sql_query)\n",
    "\n",
    "try:\n",
    "    with conn.cursor() as cursor:\n",
    "\n",
    "        cursor.execute(sql_query, (post_code_a, post_code_b, Hx, elevation_status, latest_timestamp))\n",
    "\n",
    "        # Commit changes to the database\n",
    "        conn.commit()\n",
    "        \n",
    "        print(\"Data saved to database\")\n",
    "except Exception as e:\n",
    "    print(\"Error:\", e)\n",
    "    # Rollback changes if an error occurs\n",
    "    conn.rollback()"
   ]
  },
  {
   "cell_type": "code",
   "execution_count": null,
   "id": "ea4a7907-bf91-4f33-a938-ce6f64b80d88",
   "metadata": {},
   "outputs": [],
   "source": [
    "predicted_H1 = predicted_value_a.iloc[0]\n",
    "\n",
    "print(predicted_H1)"
   ]
  },
  {
   "cell_type": "code",
   "execution_count": null,
   "id": "c00d8863-1987-4de4-a440-abf17905a3dd",
   "metadata": {},
   "outputs": [],
   "source": [
    "predicted_H2 = predicted_value_b.iloc[0]\n",
    "\n",
    "print(predicted_H2)"
   ]
  },
  {
   "cell_type": "code",
   "execution_count": null,
   "id": "ccb5f96c-527c-4952-bd8c-199a34e5fcb9",
   "metadata": {},
   "outputs": [],
   "source": [
    "predicted_Ho = predicted_H2 - predicted_H1"
   ]
  },
  {
   "cell_type": "code",
   "execution_count": null,
   "id": "af30ecda-ecf9-429b-a41d-ee547435d77f",
   "metadata": {},
   "outputs": [],
   "source": [
    "#Get Hx Value\n",
    "predicted_Hx = predicted_H1 - ( ( (Hf) / ( L ) ) * Lx )\n",
    "\n",
    "print(predicted_Hx)"
   ]
  },
  {
   "cell_type": "code",
   "execution_count": null,
   "id": "1cf95e2e-df76-4f47-8367-23cf95019153",
   "metadata": {},
   "outputs": [],
   "source": [
    "if predicted_Hx >= river_danger_height:\n",
    "    elevation_status = \"DANGER\"\n",
    "    print(\"DANGER\")\n",
    "elif predicted_Hx >= river_warning_height:\n",
    "    elevation_status = \"WARNING\"\n",
    "    print(\"WARNING\")\n",
    "elif predicted_Hx >= river_safe_height:\n",
    "    elevation_status = \"SAFE\"\n",
    "    print(\"SAFE\")\n",
    "else:\n",
    "    elevation_status = \"SAFE\"\n",
    "    print(\"SAFE\")"
   ]
  },
  {
   "cell_type": "code",
   "execution_count": null,
   "id": "450bc270-8418-40fe-9d8a-080d8c2a5046",
   "metadata": {},
   "outputs": [],
   "source": [
    "# #Insert Hasil Penghitungan Elevasi Data\n",
    "# sql_query = \"INSERT INTO water_data (sensor_a_code, sensor_b_code, water_elevation, water_status, created_at) VALUES (%s, %s, %s, %s, %s)\"\n",
    "\n",
    "# # print(sql_query)\n",
    "\n",
    "# try:\n",
    "#     with conn.cursor() as cursor:\n",
    "\n",
    "#         cursor.execute(sql_query, (post_code_a, post_code_b, Hx, elevation_status, latest_timestamp))\n",
    "\n",
    "#         # Commit changes to the database\n",
    "#         conn.commit()\n",
    "        \n",
    "#         print(\"Data saved to database\")\n",
    "# except Exception as e:\n",
    "#     print(\"Error:\", e)\n",
    "#     # Rollback changes if an error occurs\n",
    "#     conn.rollback()"
   ]
  },
  {
   "cell_type": "code",
   "execution_count": null,
   "id": "22f2a045-1b9c-4bc0-a949-3b86e4163768",
   "metadata": {},
   "outputs": [],
   "source": [
    "%%capture\n",
    "\n",
    "sql_query = \"\"\"\n",
    "    UPDATE forecasting \n",
    "    SET prediction_water_elevation = %s, water_status = %s \n",
    "    WHERE created_at = (\n",
    "        SELECT MAX(created_at) \n",
    "        FROM forecasting \n",
    "        WHERE river_code = %s\n",
    "    ) AND river_code = %s\n",
    "\"\"\"\n",
    "\n",
    "print(sql_query)\n",
    "\n",
    "try:\n",
    "    with conn.cursor() as cursor:\n",
    "\n",
    "        cursor.execute(sql_query, (predicted_Hx, elevation_status, river_code, river_code))\n",
    "        \n",
    "        # Commit changes to the database\n",
    "        conn.commit()\n",
    "        \n",
    "        print(\"Prediction saved to database\")\n",
    "except Exception as e:\n",
    "    print(\"Error:\", e)\n",
    "    # Rollback changes if an error occurs\n",
    "    conn.rollback()"
   ]
  },
  {
   "cell_type": "code",
   "execution_count": null,
   "id": "c8829eb5-0f62-4324-a885-04db7e6321e1",
   "metadata": {},
   "outputs": [],
   "source": [
    "# Close database connection\n",
    "# conn.close()"
   ]
  }
 ],
 "metadata": {
  "kernelspec": {
   "display_name": "Python 3 (ipykernel)",
   "language": "python",
   "name": "python3"
  },
  "language_info": {
   "codemirror_mode": {
    "name": "ipython",
    "version": 3
   },
   "file_extension": ".py",
   "mimetype": "text/x-python",
   "name": "python",
   "nbconvert_exporter": "python",
   "pygments_lexer": "ipython3",
   "version": "3.12.3"
  }
 },
 "nbformat": 4,
 "nbformat_minor": 5
}
