{
 "cells": [
  {
   "cell_type": "code",
   "execution_count": null,
   "id": "82c37b8b-c398-4e24-a4ca-07c1d02dede9",
   "metadata": {},
   "outputs": [],
   "source": [
    "import serial\n",
    "import time\n",
    "import pandas as pd\n",
    "import serial.tools.list_ports\n",
    "from datetime import datetime\n",
    "\n",
    "# Check available ports and print them\n",
    "ports = serial.tools.list_ports.comports()\n",
    "for port in ports:\n",
    "    print(port)\n",
    "\n",
    "# Initialize serial connection (adjust COM port and baud rate as needed)\n",
    "try:\n",
    "    ser = serial.Serial('COM4', 115200, timeout=1)  # Replace 'COM3' with your serial port\n",
    "except serial.SerialException as e:\n",
    "    print(f\"Error: {e}\")\n",
    "    exit(1)\n",
    "\n",
    "# Initialize a list to store the data\n",
    "data = []\n",
    "\n",
    "# Read data from serial\n",
    "def read_serial_data(duration=60):\n",
    "    start_time = time.time()\n",
    "    while time.time() - start_time < duration:\n",
    "        if ser.in_waiting > 0:\n",
    "            try:\n",
    "                line = ser.readline().decode('utf-8', errors='ignore').strip()\n",
    "                if line:\n",
    "                    print(line)  # Print the raw line for debugging\n",
    "                    # Parse the line to extract values\n",
    "                    if \"River Code:\" in line and \"Post Code:\" in line and \"Temperature:\" in line and \"Humidity:\" in line and \"Distance:\" in line and \"Rain:\" in line:\n",
    "                        try:\n",
    "                            parts = line.split(',')\n",
    "                            post_code = parts[0].split(':')[1].strip()\n",
    "                            river_code = parts[1].split(':')[1].strip()\n",
    "                            t = float(parts[2].split(':')[1].strip().replace('C', '').strip())\n",
    "                            h = float(parts[3].split(':')[1].strip().replace('%', '').strip())\n",
    "                            distance = float(parts[4].split(':')[1].strip().replace('cm', '').strip())\n",
    "                            rainValue = float(parts[5].split(':')[1].strip())\n",
    "                            timestamp = datetime.now().strftime('%Y-%m-%d %H:%M:%S')\n",
    "                            data.append({'Timestamp': timestamp, 'River Code': river_code, 'Post Code': post_code, 'Temperature': t, 'Humidity': h, 'Distance': distance, 'RainValue': rainValue})\n",
    "                        except ValueError as ve:\n",
    "                            print(f\"Invalid data received: {ve}\")\n",
    "                    else:\n",
    "                        print(\"Incorrect data format received\")\n",
    "            except UnicodeDecodeError as e:\n",
    "                print(f\"Decode error: {e}\")\n",
    "        time.sleep(1)\n",
    "\n",
    "# Read data for 60 seconds\n",
    "read_serial_data(10)\n",
    "\n",
    "print(data)\n",
    "\n",
    "# Convert the data to a DataFrame\n",
    "sensor_b = pd.DataFrame(data)\n",
    "\n",
    "# Display the DataFrame\n",
    "print(sensor_b.head())\n"
   ]
  },
  {
   "cell_type": "code",
   "execution_count": null,
   "id": "bd3fa0ba-022f-480a-9321-3127ed41cbce",
   "metadata": {},
   "outputs": [],
   "source": [
    "import pandas as pd\n",
    "import numpy as np\n",
    "import matplotlib.pyplot as plt\n",
    "from numpy import array\n",
    "from numpy import hstack\n",
    "from sklearn.preprocessing import MinMaxScaler\n",
    "from tensorflow.keras.models import Sequential\n",
    "from tensorflow.keras.layers import LSTM, Dense\n",
    "import pymysql\n",
    "from datetime import datetime, timedelta\n",
    "from sklearn.preprocessing import MinMaxScaler\n",
    "from tensorflow.keras.preprocessing.sequence import TimeseriesGenerator\n",
    "import seaborn as sns\n",
    "from statsmodels.tsa.seasonal import seasonal_decompose\n",
    "from sklearn.metrics import mean_squared_error\n",
    "from math import sqrt\n",
    "from typing import List\n",
    "from typing import Optional\n",
    "from sqlalchemy import ForeignKey\n",
    "from sqlalchemy import String\n",
    "from sqlalchemy.orm import DeclarativeBase\n",
    "from sqlalchemy.orm import Mapped\n",
    "from sqlalchemy.orm import mapped_column\n",
    "from sqlalchemy.orm import relationship\n",
    "import random, sqlite3"
   ]
  },
  {
   "cell_type": "code",
   "execution_count": null,
   "id": "88433eb3-5de4-41b7-8e93-2bd17218666e",
   "metadata": {},
   "outputs": [],
   "source": [
    "timestamp = sensor_b['Timestamp'].iloc[0]\n",
    "post_code = sensor_b['Post Code'].iloc[0]\n",
    "river_code = sensor_b['River Code'].iloc[0]\n",
    "temperature = sensor_b['Temperature'].iloc[0]\n",
    "humidity = sensor_b['Humidity'].iloc[0]\n",
    "distance = sensor_b['Distance'].iloc[0]\n",
    "rain_value = sensor_b['RainValue'].iloc[0]"
   ]
  },
  {
   "cell_type": "code",
   "execution_count": null,
   "id": "3999cfee-4f82-485e-9741-f750b36cdc73",
   "metadata": {},
   "outputs": [],
   "source": [
    "print(timestamp)\n",
    "print(post_code)\n",
    "print(river_code)\n",
    "print(temperature)\n",
    "print(humidity)\n",
    "print(distance)\n",
    "print(rain_value)"
   ]
  },
  {
   "cell_type": "code",
   "execution_count": null,
   "id": "9ce5bee9-802f-4aee-a995-23b90b4e8a3b",
   "metadata": {},
   "outputs": [],
   "source": [
    "# Database connection\n",
    "db_name = \"floodeck_alpha\"\n",
    "db_host = \"localhost\"\n",
    "db_username = \"root\"\n",
    "db_password = \"\"\n",
    "\n",
    "try:\n",
    "    conn = pymysql.connect(host=db_host,\n",
    "                           port=int(3306),\n",
    "                           user=db_username,\n",
    "                           password=db_password,\n",
    "                           db=db_name)\n",
    "    print(\"Connection successful\")\n",
    "except Exception as e:\n",
    "    print(e)"
   ]
  },
  {
   "cell_type": "code",
   "execution_count": null,
   "id": "5a3faa5c-63bd-4a43-a905-5b2a8494549c",
   "metadata": {},
   "outputs": [],
   "source": [
    "sensor_placement_query = \"SELECT post_sensor_placement FROM water_post_data WHERE post_code = %s\""
   ]
  },
  {
   "cell_type": "code",
   "execution_count": null,
   "id": "88877e71-b766-4555-9c03-444fa7b434cd",
   "metadata": {
    "scrolled": true
   },
   "outputs": [],
   "source": [
    "sensor_placement = pd.read_sql_query(sensor_placement_query, conn, params=[post_code])\n",
    "sensor_placement = sensor_placement.astype(float).iloc[0, 0]\n",
    "sensor_placement"
   ]
  },
  {
   "cell_type": "code",
   "execution_count": null,
   "id": "2c1fbe7a-c9b9-48ca-a8df-42a3cadffdc2",
   "metadata": {},
   "outputs": [],
   "source": [
    "river_depth_query = \"SELECT river_depth FROM river_data WHERE river_code = %s\""
   ]
  },
  {
   "cell_type": "code",
   "execution_count": null,
   "id": "2fdc8ed8-4a0d-4d8b-bdcf-6040536216b6",
   "metadata": {},
   "outputs": [],
   "source": [
    "river_depth = pd.read_sql_query(river_depth_query, conn, params=[river_code])\n",
    "river_depth = river_depth.astype(float).iloc[0, 0]\n",
    "river_depth"
   ]
  },
  {
   "cell_type": "code",
   "execution_count": null,
   "id": "4724dcca-d378-430c-a4b0-9dc746b9dd0a",
   "metadata": {},
   "outputs": [],
   "source": [
    "Sensor_y_scan_water_height = distance - sensor_placement\n",
    "\n",
    "sensor_b_scan_water_height = river_depth - Sensor_y_scan_water_height\n",
    "\n",
    "# sensor_b_scan_water_height = river_safe_height.astype(float)\n",
    "\n",
    "sensor_b_scan_water_height"
   ]
  },
  {
   "cell_type": "code",
   "execution_count": null,
   "id": "800b5f8d-aa47-4769-85c9-f16a16cb5e86",
   "metadata": {},
   "outputs": [],
   "source": [
    "river_safe_height_query = \"SELECT river_safe_height FROM river_data WHERE river_code = %s\""
   ]
  },
  {
   "cell_type": "code",
   "execution_count": null,
   "id": "3d83a590-a229-4926-9263-7c3bec745b8c",
   "metadata": {},
   "outputs": [],
   "source": [
    "river_safe_height = pd.read_sql_query(river_safe_height_query, conn, params=[river_code])\n",
    "river_safe_height = river_safe_height.astype(float).iloc[0, 0] * river_depth\n",
    "river_safe_height"
   ]
  },
  {
   "cell_type": "code",
   "execution_count": null,
   "id": "8fcf59a2-67cd-4e79-a8d3-2913e08ad405",
   "metadata": {},
   "outputs": [],
   "source": [
    "river_warning_height_query = \"SELECT river_warning_height FROM river_data WHERE river_code = %s\""
   ]
  },
  {
   "cell_type": "code",
   "execution_count": null,
   "id": "a79724f5-6349-4e7b-8a40-9dcdcffd6cdd",
   "metadata": {},
   "outputs": [],
   "source": [
    "river_warning_height = pd.read_sql_query(river_warning_height_query, conn, params=[river_code])\n",
    "river_warning_height = river_warning_height.astype(float).iloc[0, 0] * river_depth\n",
    "river_warning_height"
   ]
  },
  {
   "cell_type": "code",
   "execution_count": null,
   "id": "17daf99f-c223-4251-90af-cf1f6be66be0",
   "metadata": {},
   "outputs": [],
   "source": [
    "river_danger_height_query = \"SELECT river_danger_height FROM river_data WHERE river_code = %s\""
   ]
  },
  {
   "cell_type": "code",
   "execution_count": null,
   "id": "6b0f6078-3e89-4b62-8a1d-2d846e1de3f1",
   "metadata": {},
   "outputs": [],
   "source": [
    "river_danger_height = pd.read_sql_query(river_danger_height_query, conn, params=[river_code])\n",
    "river_danger_height = river_danger_height.astype(float).iloc[0, 0] * river_depth\n",
    "river_danger_height"
   ]
  },
  {
   "cell_type": "code",
   "execution_count": null,
   "id": "6c54c7a1-1c8c-4e2b-96ac-aa13d7671023",
   "metadata": {},
   "outputs": [],
   "source": [
    "if sensor_b_scan_water_height >= river_danger_height:\n",
    "    point_b_status = \"DANGER\"\n",
    "    print(\"DANGER\")\n",
    "elif sensor_b_scan_water_height >= river_warning_height:\n",
    "    point_b_status = \"WARNING\"\n",
    "    print(\"WARNING\")\n",
    "elif sensor_b_scan_water_height >= river_safe_height:\n",
    "    point_b_status = \"SAFE\"\n",
    "    print(\"SAFE\")\n",
    "else:\n",
    "    point_b_status = \"SAFE\"\n",
    "    print(\"SAFE\")"
   ]
  },
  {
   "cell_type": "code",
   "execution_count": null,
   "id": "36c1e099-47a6-4f14-ae5d-d8b3d0005e4b",
   "metadata": {},
   "outputs": [],
   "source": [
    "# sql_query = \"INSERT INTO dhtsensor (sensor_post_code, dht_humidity, dht_temperature, created_at) VALUES (%s, %s, %s, %s)\"\n",
    "\n",
    "# print(sql_query)\n",
    "\n",
    "# try:\n",
    "#     with conn.cursor() as cursor:\n",
    "\n",
    "#         cursor.execute(sql_query, (post_code, humidity, temperature, timestamp))\n",
    "        \n",
    "#         # Commit changes to the database\n",
    "#         conn.commit()\n",
    "#         print(\"Data saved to database\")\n",
    "# except Exception as e:\n",
    "#     print(\"Error:\", e)\n",
    "#     # Rollback changes if an error occurs\n",
    "#     conn.rollback()"
   ]
  },
  {
   "cell_type": "code",
   "execution_count": null,
   "id": "797f20ca-1693-4605-8c60-41b439467353",
   "metadata": {},
   "outputs": [],
   "source": [
    "sql_query = \"INSERT INTO sensor_b (water_post_code, sensor_b_temperature, sensor_b_humidity, sensor_b_scan_water_height, sensor_b_raindrop, sensor_b_status, created_at) VALUES (%s, %s, %s, %s, %s, %s, %s)\"\n",
    "\n",
    "print(sql_query)\n",
    "\n",
    "try:\n",
    "    with conn.cursor() as cursor:\n",
    "\n",
    "        cursor.execute(sql_query, (post_code, temperature, humidity, sensor_b_scan_water_height, rain_value, point_b_status, timestamp))\n",
    "        \n",
    "        # Commit changes to the database\n",
    "        conn.commit()\n",
    "        print(\"Data saved to database\")\n",
    "except Exception as e:\n",
    "    print(\"Error:\", e)\n",
    "    # Rollback changes if an error occurs\n",
    "    conn.rollback()"
   ]
  },
  {
   "cell_type": "code",
   "execution_count": null,
   "id": "21400af1-e642-49cc-a809-85c2aaef1a18",
   "metadata": {},
   "outputs": [],
   "source": [
    "# sql_query = \"INSERT INTO raindropsensor (sensor_post_code, raindrop_value, created_at) VALUES (%s, %s, %s)\"\n",
    "\n",
    "# print(sql_query)\n",
    "\n",
    "# try:\n",
    "#     with conn.cursor() as cursor:\n",
    "\n",
    "#         cursor.execute(sql_query, (post_code, rain_value, timestamp))\n",
    "        \n",
    "#         # Commit changes to the database\n",
    "#         conn.commit()\n",
    "#         print(\"Data saved to database\")\n",
    "# except Exception as e:\n",
    "#     print(\"Error:\", e)\n",
    "#     # Rollback changes if an error occurs\n",
    "#     conn.rollback()"
   ]
  }
 ],
 "metadata": {
  "kernelspec": {
   "display_name": "Python 3 (ipykernel)",
   "language": "python",
   "name": "python3"
  },
  "language_info": {
   "codemirror_mode": {
    "name": "ipython",
    "version": 3
   },
   "file_extension": ".py",
   "mimetype": "text/x-python",
   "name": "python",
   "nbconvert_exporter": "python",
   "pygments_lexer": "ipython3",
   "version": "3.12.5"
  }
 },
 "nbformat": 4,
 "nbformat_minor": 5
}
